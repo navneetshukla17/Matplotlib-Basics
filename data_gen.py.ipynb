{
 "cells": [
  {
   "cell_type": "code",
   "execution_count": 5,
   "id": "70e6be1f",
   "metadata": {},
   "outputs": [],
   "source": [
    "import csv\n",
    "import random\n",
    "import time"
   ]
  },
  {
   "cell_type": "code",
   "execution_count": 6,
   "id": "37fd443d",
   "metadata": {},
   "outputs": [
    {
     "name": "stdout",
     "output_type": "stream",
     "text": [
      "0 1000 1000\n",
      "1 994 996\n",
      "2 994 995\n",
      "3 991 999\n",
      "4 997 1004\n",
      "5 993 1010\n",
      "6 997 1013\n",
      "7 995 1019\n",
      "8 993 1024\n",
      "9 992 1019\n",
      "10 999 1024\n",
      "11 1000 1025\n",
      "12 998 1031\n",
      "13 1004 1030\n",
      "14 1003 1025\n",
      "15 1007 1023\n",
      "16 1007 1026\n",
      "17 1009 1026\n",
      "18 1008 1024\n",
      "19 1005 1025\n",
      "20 999 1026\n",
      "21 994 1022\n",
      "22 997 1027\n",
      "23 1001 1023\n",
      "24 998 1026\n",
      "25 1006 1031\n",
      "26 1004 1027\n",
      "27 1009 1023\n",
      "28 1008 1019\n",
      "29 1008 1025\n",
      "30 1002 1027\n",
      "31 1001 1026\n",
      "32 1005 1023\n",
      "33 1002 1020\n",
      "34 1003 1016\n",
      "35 1006 1020\n",
      "36 1004 1021\n"
     ]
    },
    {
     "ename": "KeyboardInterrupt",
     "evalue": "",
     "output_type": "error",
     "traceback": [
      "\u001b[0;31m---------------------------------------------------------------------------\u001b[0m",
      "\u001b[0;31mKeyboardInterrupt\u001b[0m                         Traceback (most recent call last)",
      "Cell \u001b[0;32mIn[6], line 29\u001b[0m\n\u001b[1;32m     26\u001b[0m     total_1 \u001b[38;5;241m+\u001b[39m\u001b[38;5;241m=\u001b[39m random\u001b[38;5;241m.\u001b[39mrandint(\u001b[38;5;241m-\u001b[39m\u001b[38;5;241m6\u001b[39m, \u001b[38;5;241m8\u001b[39m)\n\u001b[1;32m     27\u001b[0m     total_2 \u001b[38;5;241m+\u001b[39m\u001b[38;5;241m=\u001b[39m random\u001b[38;5;241m.\u001b[39mrandint(\u001b[38;5;241m-\u001b[39m\u001b[38;5;241m5\u001b[39m, \u001b[38;5;241m6\u001b[39m)\n\u001b[0;32m---> 29\u001b[0m \u001b[43mtime\u001b[49m\u001b[38;5;241;43m.\u001b[39;49m\u001b[43msleep\u001b[49m\u001b[43m(\u001b[49m\u001b[38;5;241;43m1\u001b[39;49m\u001b[43m)\u001b[49m\n",
      "\u001b[0;31mKeyboardInterrupt\u001b[0m: "
     ]
    }
   ],
   "source": [
    "x_value = 0\n",
    "total_1 = 1000\n",
    "total_2 = 1000\n",
    "\n",
    "fieldnames = ['x_value', 'total_1', 'total_2']\n",
    "\n",
    "with open('data.csv', 'w') as csv_file:\n",
    "    csv_writer = csv.DictWriter(csv_file, fieldnames=fieldnames)\n",
    "    csv_writer.writeheader()\n",
    "    \n",
    "while True:\n",
    "    \n",
    "    with open('data.csv', 'a') as csv_file:\n",
    "        csv_writer = csv.DictWriter(csv_file, fieldnames=fieldnames)\n",
    "        \n",
    "        info = {\n",
    "            'x_value': x_value,\n",
    "            'total_1': total_1,\n",
    "            'total_2': total_2\n",
    "        }\n",
    "        \n",
    "        csv_writer.writerow(info)\n",
    "        print(x_value, total_1, total_2)\n",
    "        \n",
    "        x_value += 1\n",
    "        total_1 += random.randint(-6, 8)\n",
    "        total_2 += random.randint(-5, 6)\n",
    "    \n",
    "    time.sleep(1)"
   ]
  },
  {
   "cell_type": "code",
   "execution_count": null,
   "id": "462b37f4",
   "metadata": {},
   "outputs": [],
   "source": [
    "\n"
   ]
  }
 ],
 "metadata": {
  "kernelspec": {
   "display_name": "Python 3 (ipykernel)",
   "language": "python",
   "name": "python3"
  },
  "language_info": {
   "codemirror_mode": {
    "name": "ipython",
    "version": 3
   },
   "file_extension": ".py",
   "mimetype": "text/x-python",
   "name": "python",
   "nbconvert_exporter": "python",
   "pygments_lexer": "ipython3",
   "version": "3.12.3"
  }
 },
 "nbformat": 4,
 "nbformat_minor": 5
}
